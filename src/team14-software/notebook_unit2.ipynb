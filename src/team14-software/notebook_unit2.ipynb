{
 "cells": [
  {
   "cell_type": "markdown",
   "metadata": {},
   "source": [
    "**Sustainable Software Development, block course, March 2021**  \n",
    "*Scientific Software Center, Institute for Scientific Computing, Dr. Inga Ulusoy*\n",
    "\n",
    "# Analysis of the data\n",
    "\n",
    "Imagine you perform a \"measurement\" of some type and obtain \"scientific data\". You know what your data represents, but you have only a vague idea how different features in the data are connected, and what information you can extract from the data.\n",
    "\n",
    "You would start first with going through the data, making sure your data set is complete and that the result is reasonable. Imagine this already happened.\n",
    "\n",
    "In the next step, you would inspect your data more closely and try to identify structures. That is the step that we are focusing on in this unit.\n",
    "\n",
    "In the `data` folder, you will find several data files (`*.t` and `*.dat`). These are data files generated through some \"new approach\" that hasn't been used in your lab before. No previous analysis software exists, and you are going to establish a protocol for this \"new approach\" and \"publish your results\".\n",
    "\n",
    "The data can be grouped into two categories: \n",
    "1. data to be analyzed using statistical methods;\n",
    "2. data to be analyzed using numerical methods.\n",
    "\n",
    "In your hypothetical lab, you are an \"expert\" in one particular \"method\", and your co-worker is an \"expert\" in the other. Combined these two methods will lead to much more impactful results than if only one of you analyzed the data. Now, the task in this course is to be solved collaboratively with your team member working on one of the analysis approaches, and you working on the other. You will both implement functionality into the same piece of \"software\", but do so collaboratively through git.\n",
    "\n",
    "As you do not know yet which analysis is most meaningful for your data, and how to implement it, you will start with a jupyter notebook. You and your team member will work on the same notebook that will be part of a github repository for your project. This is the task for today. Discuss with your team members who will work on the statistical and who on the numerical analysis."
   ]
  },
  {
   "cell_type": "markdown",
   "metadata": {},
   "source": [
    "## Step 1\n",
    "\n",
    "Generate a github repository with the relevant files."
   ]
  },
  {
   "cell_type": "markdown",
   "metadata": {},
   "source": [
    "## Step 2\n",
    "\n",
    "Clone the repository to your local machine."
   ]
  },
  {
   "cell_type": "markdown",
   "metadata": {},
   "source": [
    "## Step 3\n",
    "\n",
    "Start working on task 1 for your analysis approach. "
   ]
  },
  {
   "cell_type": "markdown",
   "metadata": {},
   "source": [
    "## Step 4\n",
    "\n",
    "Create your own branch of the repository and commit your changes to your branch; push to the remote repository."
   ]
  },
  {
   "cell_type": "markdown",
   "metadata": {},
   "source": [
    "## Step 5\n",
    "\n",
    "Open a `pull request` so your team member can review your implementation. Likewise, your team member will ask you to review theirs."
   ]
  },
  {
   "cell_type": "markdown",
   "metadata": {},
   "source": [
    "## Step 6\n",
    "\n",
    "Merge the changes in your branch into `main`. Resolve conflicts."
   ]
  },
  {
   "cell_type": "markdown",
   "metadata": {},
   "source": [
    "## Step 7\n",
    "\n",
    "Repeat working on task; committing and pushing to your previously generated branch or a new branch; open a pull request; merge with main; until you have finished all the tasks in your analysis approach. Delete obsolete branches."
   ]
  },
  {
   "cell_type": "markdown",
   "metadata": {},
   "source": [
    "# Start of the analysis notebook\n",
    "\n",
    "**Author : Your Name**  \n",
    "*Date : The date you started working on this*  \n",
    "*Affiliation : The entity under whose name you are working on this*  \n",
    "\n",
    "Place the required modules in the top, followed by required constants and global functions."
   ]
  },
  {
   "cell_type": "code",
   "execution_count": null,
   "metadata": {},
   "outputs": [],
   "source": [
    "# required modules\n",
    "import numpy as np\n",
    "import matplotlib.pyplot as plt\n",
    "import pandas as pd\n",
    "import seaborn as sb"
   ]
  },
  {
   "cell_type": "code",
   "execution_count": null,
   "metadata": {},
   "outputs": [],
   "source": [
    "# constants and global functions\n",
    "threshv = 1.0e-5\n",
    "filenames = 'efield.t', 'expec.t', 'npop.t', 'nstate_i.t', 'table.dat'\n",
    "filedir = '../../data/'"
   ]
  },
  {
   "cell_type": "code",
   "execution_count": null,
   "metadata": {},
   "outputs": [],
   "source": [
    "# reading of the data files"
   ]
  },
  {
   "cell_type": "markdown",
   "metadata": {},
   "source": [
    "# Statistical analysis\n",
    "\n",
    "Find correlations in the data sets. Analyse the data statistically and plot your results.  \n",
    "\n",
    "Here we would want to do everything with pandas and leave the data in a dataframe. The files that are relevant to you are `expect.t`, `npop.t` and `table.dat`."
   ]
  },
  {
   "cell_type": "markdown",
   "metadata": {},
   "source": [
    "### Task 1: Read in expec.t and plot relevant data"
   ]
  },
  {
   "cell_type": "code",
   "execution_count": null,
   "metadata": {},
   "outputs": [],
   "source": [
    "# read and plot expec.t\n",
    "\n",
    "# I/O module \n",
    "\n",
    "def readfile(filepath, mode, separator='\\t', datatype=float, skiprows=1):\n",
    "    \"\"\"Reads a given (csv) file with the indicated separator.\n",
    "\n",
    "        Args:\n",
    "            filepath (str): path to the file including the filename\n",
    "            mode (str):  indicates if data should be read into a Pandas dataframe ('df') or into a NumPy array ('npa')\n",
    "            separator (str): optional, separator used in the file (e.g. '\\t'), can also be a regular expression like '    |   |  '\n",
    "            datatype (type): optional,\n",
    "            skiprows (int): optional\n",
    "\n",
    "        Returns:\n",
    "            dataframe, array: A structured data object, either Pandas dataframe or NumPy array\n",
    "    \"\"\"\n",
    "    if mode == 'df':\n",
    "        data = pd.read_table(filepath, separator, engine='python')\n",
    "    if mode == 'npa':\n",
    "        data = np.loadtxt(filepath, dtype=datatype, skiprows=skiprows)\n",
    "    return data\n",
    "\n",
    "\n",
    "df_expect = readfile(filedir+filenames[1], 'df', '   ')\n",
    "\n",
    "\n",
    "\n",
    "fig, ax = plt.subplots(2,figsize=(6,9))\n",
    "fig.suptitle('Linear scale above, logarithmic scale below')\n",
    "\n",
    "\n",
    "for i in range(len(df_expect.keys())):    \n",
    "    ax[0].plot(df_expect[df_expect.keys()[i]], label=df_expect.keys()[i])\n",
    "\n",
    "ax[0].legend()\n",
    "ax[1].plot(df_expect)\n",
    "ax[1].set_yscale('symlog')\n",
    "\n"
   ]
  },
  {
   "cell_type": "markdown",
   "metadata": {},
   "source": [
    "We can discard the entries norm, \\<x>, and \\<y> as these are mostly constant."
   ]
  },
  {
   "cell_type": "code",
   "execution_count": null,
   "metadata": {},
   "outputs": [],
   "source": [
    "# eliminate columns based on the variance: if the variance of the values\n",
    "# in a column is below a given threshold, that column is discarded\n",
    "\n",
    "#print(df_expect.var())\n",
    "\n",
    "def filterdata(data, treshhold=0, keeplist=[]):\n",
    "    \"\"\"Filters data based on variance. If variance is below a given threshold, column is discarded\n",
    "        \n",
    "        Arguments:\n",
    "            data: data to be filtered, as dataframe\n",
    "            treshhold: xx\n",
    "            keeplist: optional, a list with column names to keep\n",
    "    \"\"\"\n",
    "\n",
    "    for i in data.keys():\n",
    "        if i in keeplist:\n",
    "            continue\n",
    "        if data[i].var() <= treshhold:\n",
    "            print('Removing column: {}'.format(i))\n",
    "            data = data.drop(i, axis=1)\n",
    "    return data\n",
    "\n",
    "        \n",
    "print(filterdata(df_expect, threshv).var())\n",
    "\n",
    "d = {'col1': [1, 2], 'col2': [3, 4]}\n",
    "\n",
    "test_df = pd.DataFrame(data=d)\n",
    "\n",
    "\n",
    "#print(filterdata(test_df, 0.4).var())\n",
    "test1 = filterdata(test_df,0.9)\n",
    "\n",
    "print(len(test1.columns))\n"
   ]
  },
  {
   "cell_type": "markdown",
   "metadata": {},
   "source": [
    "### Task 2: Create plots of the relevant data and save as .pdf."
   ]
  },
  {
   "cell_type": "code",
   "execution_count": null,
   "metadata": {},
   "outputs": [],
   "source": [
    "# create plots\n",
    "\n",
    "fig.savefig('../pdfPlots/expect.pdf',format='pdf')"
   ]
  },
  {
   "cell_type": "markdown",
   "metadata": {},
   "source": [
    "### Task 3: Read in file `npop.t` and analyze correlations in the data"
   ]
  },
  {
   "cell_type": "code",
   "execution_count": null,
   "metadata": {},
   "outputs": [],
   "source": [
    " # read in npop.t\n",
    "\n",
    "df_npop = readfile(filedir+filenames[2], 'df','    |   |  ')\n"
   ]
  },
  {
   "cell_type": "code",
   "execution_count": null,
   "metadata": {},
   "outputs": [],
   "source": [
    "# discard all columns with variance below a set threshold - we can consider them as constant\n",
    "\n",
    "df_npopfiltered = filterdata(df_npop, threshv, ['time'])\n",
    "print(df_npopfiltered.var())"
   ]
  },
  {
   "cell_type": "markdown",
   "metadata": {},
   "source": [
    "Plot the remaining columns. Seaborn prefers \"long format\" (one column for all measurement values, one column to indicate the type) as input, whereas the cvs is in \"wide format\" (one column per measurement type)."
   ]
  },
  {
   "cell_type": "code",
   "execution_count": null,
   "metadata": {},
   "outputs": [],
   "source": [
    "# plot ideally with seaborn\n",
    "\n",
    "npop_longFormat = pd.melt(df_npopfiltered, id_vars=['time'])\n",
    "\n",
    "sb.lineplot(x='time', y='value', hue='variable', \n",
    "             data = npop_longFormat) \n",
    "\n",
    "plt.legend(bbox_to_anchor=(1.05, 1), loc=2, borderaxespad=0.)\n",
    "plt.show()"
   ]
  },
  {
   "cell_type": "markdown",
   "metadata": {},
   "source": [
    "## Quantify the pairwise correlation in the data\n",
    "\n",
    "- negative correlation: y values decrease for increasing x - large values of one feature correspond to small values of the other feature\n",
    "- weak or no correlation: no trend observable, association between two features is hardly observable\n",
    "- positive correlation: y values increase for decreasing x - small values of one feature correspond to small values of the other feature\n",
    "\n",
    "Remember that correlation does not indicate causation - the reason that two features are associated can lie in their dependence on same factors.\n",
    "\n",
    "Correlate the value pairs using Pearson's $r$. Pearson's $r$ is a measure of the linear relationship between features:\n",
    "\n",
    "$r = \\frac{\\sum_i(x_i − \\bar{x})(y_i − \\bar{y})}{\\sqrt{\\sum_i(x_i − \\bar{x})^2 \\sum_i(y_i − \\bar{y})^2}}$\n",
    "\n",
    "Here, $\\bar{x}$ and $\\bar{y}$ indicate mean values. $i$ runs over the whole data set. For a positive correlation, $r$ is positive, and negative for a negative correlation, with minimum and maximum values of -1 and 1, indicating a perfectly linear relationship. Weakly or not correlated features are characterized by $r$-values close to 0.\n",
    "\n",
    "Other measures of correlation that can be used are Spearman's rank (value pairs follow monotonic function) or Kendall's $\\tau$ (measures ordinal association), but they do not apply here. You can also define measures yourself."
   ]
  },
  {
   "cell_type": "code",
   "execution_count": null,
   "metadata": {},
   "outputs": [],
   "source": [
    "# print the correlation matrix\n",
    "\n",
    "def correlatedata(data, corrmethod='pearson'):\n",
    "    \"\"\"Compute pairwise correlation of data with pandas.DataFrame.corr\n",
    "    :param data: Data to be correlated.\n",
    "    :type data: pandas dataframe (dict)\n",
    "    :param corrmethod: Method to be used for correlation (pandas: pearson, kendall, spearman).\n",
    "    :type corrmethod: string, optional\n",
    "    \"\"\"\n",
    "\n",
    "    return data.corr(method=corrmethod)\n",
    "\n",
    "df_npop_corr = correlatedata(df_npopfiltered, 'pearson')\n",
    "\n",
    "print(df_npop_corr)"
   ]
  },
  {
   "cell_type": "markdown",
   "metadata": {},
   "source": [
    "The diagonal values tell us that each value is perfectly correlated with itself. We are not interested in the diagonal values and also not in the correlation with time. We also need to get rid of redundant entries. Finally, we need to find the value pairs that exhibit the highest linear correlation. We still want to know if it is positive or negative correlation, so we cannot get rid of the sign."
   ]
  },
  {
   "cell_type": "code",
   "execution_count": null,
   "metadata": {},
   "outputs": [],
   "source": [
    "# get rid of time column, lower triangular and diagonal entries of the correlation matrix\n",
    "# sort the remaing values according to their absolute value, but keep the sign\n",
    "\n",
    "# drop time column\n",
    "df_npop_corr = df_npop_corr.drop(['time'], axis=1)\n",
    "#print(df_npop_corr)\n",
    "\n",
    "# copied from solution for unit1\n",
    "def get_correlation_measure(df):\n",
    "    drop_values = set() # an unordered collection of items\n",
    "    cols = df.columns # get the column labels\n",
    "    print(cols)\n",
    "    for i in range(0, df.shape[1]):\n",
    "        for j in range(0, i+1): # get rid of all diagonal entries and the lower triangle\n",
    "            drop_values.add((cols[i], cols[j]))\n",
    "    print(drop_values)\n",
    "    return drop_values\n",
    "\n",
    "drop_vals = get_correlation_measure(df_npop_corr) # get rid of lower triangular and diagonal entries\n",
    "corr2 = df_npop_corr.corr().unstack() # pivot the correlation matrix\n",
    "corr2 = corr2.drop(labels=drop_vals).sort_values(ascending=False, key=lambda col: col.abs()) # sort by absolute values but keep sign\n",
    "display(corr2)\n",
    "\n"
   ]
  },
  {
   "cell_type": "markdown",
   "metadata": {},
   "source": [
    "Note that the entries in the left column are not repeated if they do not change from the row above (so the fourth feature pair is MO3 and MO6)."
   ]
  },
  {
   "cell_type": "markdown",
   "metadata": {},
   "source": [
    "### Task 4: Print the resulting data to a file"
   ]
  },
  {
   "cell_type": "code",
   "execution_count": null,
   "metadata": {},
   "outputs": [],
   "source": [
    "# write to file\n",
    "\n",
    "def writefile(data, filepath, encoding='utf-8', header=False):\n",
    "    \"\"\"Writes a given dataframe to a csv file.\n",
    "        Arguments:\n",
    "        xxx\n",
    "    \"\"\"\n",
    "    data.to_csv(filepath, encoding=encoding, header=header)\n",
    "    \n",
    "writefile(corr2, filedir+'npop_processed.csv')\n",
    "\n",
    "#corr2.to_csv(filedir+'npop_processed.csv', encoding='utf-8', header=False)"
   ]
  },
  {
   "cell_type": "markdown",
   "metadata": {},
   "source": [
    "### Task 5: Calculate the Euclidean distance (L2 norm) for the vectors in `table.dat`\n",
    "\n",
    "\n",
    "The Euclidean distance measures the distance between to objects that are not points:\n",
    "\n",
    "$d(p,q) = \\sqrt{\\left(p-q\\right)^2}$\n",
    "\n",
    "In this case, consider each of the columns in table.dat as a vector in Euclidean space, where column $r(x)$ and column $v(x)$ denote a pair of vectors that should be compared, as well as $r(y)$ and $v(y)$, and r(z) and v(z).\n",
    "\n",
    "(Background: These are dipole moment components in different gauges, the length and velocity gauge.)"
   ]
  },
  {
   "cell_type": "code",
   "execution_count": null,
   "metadata": {},
   "outputs": [],
   "source": [
    "# read in table.dat - I suggest reading it as a numpy array\n",
    "\n",
    "#arr = np.loadtxt(filedir+filenames[4],dtype=float,skiprows=1)\n",
    "arr = readfile(filedir+filenames[4],'npa')\n",
    "\n",
    "# replace the NaNs by zero\n",
    "\n",
    "#arr[np.where(np.isnan(arr))] = 0.\n",
    "\n",
    "table_vals = np.nan_to_num(arr)"
   ]
  },
  {
   "cell_type": "markdown",
   "metadata": {},
   "source": [
    "Now calculate how different the vectors in column 2 are from column 3, column 4 from column 5, and column 6 from column 7."
   ]
  },
  {
   "cell_type": "code",
   "execution_count": null,
   "metadata": {},
   "outputs": [],
   "source": [
    "# calculate the Euclidean distance\n",
    "\n",
    "\n",
    "\n",
    "def euclidean_distance(list_ref, list_comp, vectors):\n",
    "    distances = np.zeros(len(list_ref))\n",
    "    for i in range(len(list_ref)):\n",
    "        distances[i] = np.linalg.norm(vectors[list_comp[i]] - vectors[list_ref[i]])\n",
    "    return distances\n",
    "\n",
    "\n",
    "\n",
    "#dx = np.sqrt((arr[:,2]-arr[:,3])**2)\n",
    "#dy = np.sqrt((arr[:,4]-arr[:,5])**2)\n",
    "#dz = np.sqrt((arr[:,6]-arr[:,7])**2)"
   ]
  },
  {
   "cell_type": "code",
   "execution_count": null,
   "metadata": {},
   "outputs": [],
   "source": [
    "# plot the result and save to a .pdf\n",
    "\n",
    "\n",
    "\n",
    "out_dist = euclidean_distance([2,4,6],[3,5,7],table_vals)\n",
    "print(out_dist)\n",
    "x = range(0,len(out_dist))\n",
    "plt.bar(x,out_dist)\n",
    "plt.xticks(x, ('x', 'y', 'z'))\n",
    "plt.show()\n",
    "\n",
    "\n",
    "\n",
    "\n",
    "#plt.plot(dx,label=\"column 2,3\")\n",
    "#plt.plot(dy,label=\"column 4,5\")\n",
    "#plt.plot(dz,label=\"column 6,7\")\n",
    "#plt.xlabel(\"table index\")\n",
    "#plt.ylabel(\"euclidean distance\")\n",
    "#plt.legend()"
   ]
  },
  {
   "cell_type": "code",
   "execution_count": null,
   "metadata": {},
   "outputs": [],
   "source": [
    "# print the result to a file\n",
    "\n",
    "plt.savefig(\"euclideandistance.pdf\")"
   ]
  },
  {
   "cell_type": "markdown",
   "metadata": {},
   "source": [
    "# Numerical analysis\n",
    "\n",
    "Analyze the data using autocorrelation functions and discrete Fourier transforms. Plot your results."
   ]
  },
  {
   "cell_type": "code",
   "execution_count": null,
   "metadata": {},
   "outputs": [],
   "source": [
    "# define some global functions"
   ]
  },
  {
   "cell_type": "markdown",
   "metadata": {},
   "source": [
    "### Task 1: Read in `efield.t` and Fourier-transform relevant columns"
   ]
  },
  {
   "cell_type": "code",
   "execution_count": null,
   "metadata": {},
   "outputs": [],
   "source": [
    "# read and plot efield.t\n",
    "\n",
    "efield = np.loadtxt(filedir+filenames[0],dtype=float,skiprows=1)\n",
    "\n",
    "plt.plot(efield[:,0],efield[:,1],label=\"efield x\")\n",
    "plt.plot(efield[:,0],efield[:,2],label=\"efield y\")\n",
    "plt.plot(efield[:,0],efield[:,3],label=\"efield z\")\n",
    "\n",
    "plt.xlabel(\"time\")\n",
    "plt.ylabel(\"field value\")\n",
    "plt.legend()"
   ]
  },
  {
   "cell_type": "markdown",
   "metadata": {},
   "source": [
    "Here we are interested in column 2 since the others are constant."
   ]
  },
  {
   "cell_type": "code",
   "execution_count": null,
   "metadata": {},
   "outputs": [],
   "source": [
    "# discard the columns with variance below threshold - these are considered constant\n",
    "\n",
    "print(np.var(efield[:,1]))\n",
    "print(np.var(efield[:,2]))\n",
    "print(np.var(efield[:,3]))\n",
    "\n",
    "efield = np.delete(efield,[1,3],1)"
   ]
  },
  {
   "cell_type": "code",
   "execution_count": null,
   "metadata": {},
   "outputs": [],
   "source": [
    "# discrete Fourier transform of the remaining column: You only need the real frequencies\n",
    "\n",
    "efield_fft = np.fft.fft(efield[:,1])\n",
    "\n",
    "freq = np.fft.fftfreq(efield.shape[0],d=(efield[1,0]-efield[0,0]))"
   ]
  },
  {
   "cell_type": "markdown",
   "metadata": {},
   "source": [
    "### Task 2: Generate a plot of your results to be saved as pdf."
   ]
  },
  {
   "cell_type": "code",
   "execution_count": null,
   "metadata": {},
   "outputs": [],
   "source": [
    "# plot your results\n",
    "\n",
    "plt.plot(freq,efield_fft.real,label=\"fft real part\")\n",
    "plt.xlabel(\"frequency f\")\n",
    "plt.ylabel(\"P(f)\")\n",
    "plt.legend()\n",
    "plt.savefig('efield_fft.pdf')"
   ]
  },
  {
   "cell_type": "markdown",
   "metadata": {},
   "source": [
    "### Task 3: Calculate the autocorrelation function from nstate_i.t\n",
    "The autocorrelation function measures how correlated subsequent vectors are with an initial vector; ie. \n",
    "\n",
    "$\\Psi_{corr} = \\langle \\Psi(t=0) | \\Psi(t) \\rangle = \\int_0^{tfin} \\Psi(0)^* \\Psi(t) dt$\n",
    "\n",
    "Since we are in a numerical representation, the integral can be replaced with a sum; and the given vectors are already normalized."
   ]
  },
  {
   "cell_type": "code",
   "execution_count": null,
   "metadata": {},
   "outputs": [],
   "source": [
    "# read in as numpy array\n",
    "nstate_i = np.loadtxt(filedir+filenames[3],dtype=float,skiprows=1)"
   ]
  },
  {
   "cell_type": "code",
   "execution_count": null,
   "metadata": {},
   "outputs": [],
   "source": [
    "# store the time column (column 0) in a vector and drop from array\n",
    "\n",
    "def get_time_and_update_data(data):\n",
    "    \n",
    "    time = data[:, 0]\n",
    "    new_data = np.delete(data, 0, 1)\n",
    "    \n",
    "    return time, new_data\n",
    "\n",
    "time, update_nstate_i = get_time_and_update_data(nstate_i)"
   ]
  },
  {
   "cell_type": "code",
   "execution_count": null,
   "metadata": {},
   "outputs": [],
   "source": [
    "# correct the data representation: this is in fact a complex matrix\n",
    "# the real part of each matrix column is contained in numpy array column 0, 2, 4, 6, ...\n",
    "# the imaginary part of each matrix column is contained in numpy array column 1, 3, 5, 7, ...\n",
    "# convert the array that was read as dtype=float into a dtype=complex array\n",
    "def get_complex_array(array):\n",
    "    \n",
    "    complex_array = array[:, 0::2] + 1j * array[:, 1::2]\n",
    "    \n",
    "    return complex_array\n",
    "\n",
    "update_nstate_i = get_complex_array(update_nstate_i)"
   ]
  },
  {
   "cell_type": "code",
   "execution_count": null,
   "metadata": {},
   "outputs": [],
   "source": [
    "# for the autocorrelation function, we want the overlap between the first vector at time 0 and all \n",
    "# subsequent vectors at later times - the sum of the product of initial and subsequent vectors for each time step\n",
    "\n",
    "def get_autocorrelation(array):\n",
    "    \n",
    "    auto_corr_matrix = []\n",
    "    for i in range(1, len(array)):\n",
    "        corr = np.multiply(array[0, :], array[i, :])\n",
    "        auto_corr_matrix.append(np.array(corr))\n",
    "    auto_correlation = np.sum(auto_corr_matrix, axis=1)\n",
    "    \n",
    "    return auto_correlation\n",
    "\n",
    "auto_correlation = get_autocorrelation(update_nstate_i)\n"
   ]
  },
  {
   "cell_type": "markdown",
   "metadata": {},
   "source": [
    "### Task 4: Generate a plot of your results to be saved as pdf."
   ]
  },
  {
   "cell_type": "code",
   "execution_count": null,
   "metadata": {},
   "outputs": [],
   "source": [
    "# plot the autocorrelation function - real, imaginary and absolute part\n",
    "plt.subplot(1, 3, 1)\n",
    "plt.gca().set_title('Real part')\n",
    "plt.plot(time[1:], auto_correlation.real)\n",
    "\n",
    "\n",
    "plt.subplot(1, 3, 2)\n",
    "plt.gca().set_title('Imag part')\n",
    "plt.plot(time[1:], auto_correlation.imag)\n",
    "\n",
    "plt.subplot(1, 3, 3)\n",
    "plt.gca().set_title('Abs part')\n",
    "plt.plot(time[1:], np.abs(auto_correlation))\n",
    "\n",
    "plt.show()"
   ]
  },
  {
   "cell_type": "markdown",
   "metadata": {},
   "source": [
    "### Task 5: Discrete Fourier transform of the autocorrelation function"
   ]
  },
  {
   "cell_type": "code",
   "execution_count": null,
   "metadata": {},
   "outputs": [],
   "source": [
    "# discrete Fourier-transform the autocorrelation function - now we need all frequency components, \n",
    "# also the negative ones\n",
    "\n",
    "fourier = np.fft.fft(auto_correlation)"
   ]
  },
  {
   "cell_type": "markdown",
   "metadata": {},
   "source": [
    "### Task 6: Generate a plot of your results to be saved as pdf."
   ]
  },
  {
   "cell_type": "code",
   "execution_count": null,
   "metadata": {},
   "outputs": [],
   "source": [
    "# plot the power spectrum (abs**2)\n",
    "\n",
    "def get_power_spectrum(fourier):\n",
    "    \n",
    "    return abs(fourier)**2\n",
    "\n",
    "\n",
    "plt.plot(get_power_spectrum(fourier))\n",
    "plt.title('Power spectrum')\n",
    "plt.show()"
   ]
  },
  {
   "cell_type": "code",
   "execution_count": null,
   "metadata": {},
   "outputs": [],
   "source": []
  }
 ],
 "metadata": {
  "kernelspec": {
   "display_name": "Python 3",
   "language": "python",
   "name": "python3"
  },
  "language_info": {
   "codemirror_mode": {
    "name": "ipython",
    "version": 3
   },
   "file_extension": ".py",
   "mimetype": "text/x-python",
   "name": "python",
   "nbconvert_exporter": "python",
   "pygments_lexer": "ipython3",
   "version": "3.6.9"
  }
 },
 "nbformat": 4,
 "nbformat_minor": 4
}
